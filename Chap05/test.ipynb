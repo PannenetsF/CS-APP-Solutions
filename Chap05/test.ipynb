{
 "metadata": {
  "language_info": {
   "codemirror_mode": {
    "name": "ipython",
    "version": 3
   },
   "file_extension": ".py",
   "mimetype": "text/x-python",
   "name": "python",
   "nbconvert_exporter": "python",
   "pygments_lexer": "ipython3",
   "version": "3.8.5-final"
  },
  "orig_nbformat": 2,
  "kernelspec": {
   "name": "python38364bit4967568e85fd433cbc8a7d6fde415236",
   "display_name": "Python 3.8.3 64-bit"
  }
 },
 "nbformat": 4,
 "nbformat_minor": 2,
 "cells": [
  {
   "cell_type": "code",
   "execution_count": 21,
   "metadata": {
    "tags": []
   },
   "outputs": [
    {
     "output_type": "stream",
     "name": "stdout",
     "text": "('0x8a4', '0x8a7')\n('0x704', '0x707')\n('0x1238', '0x123b')\n"
    }
   ],
   "source": [
    "def real_bin(num, width):\n",
    "    s = bin(num)\n",
    "    s = s[2:]\n",
    "    return (width-len(s))*'0' + s \n",
    "\n",
    "def addr(t, s):\n",
    "    st = real_bin(t, 8)\n",
    "    st += real_bin(s, 3) \n",
    "    return (hex(int(st+'00', 2)), hex(int(st+'11', 2)))\n",
    "\n",
    "print(addr(0x45,1))\n",
    "print(addr(0x38,1))\n",
    "print(addr(0x91,6))\n"
   ]
  },
  {
   "cell_type": "code",
   "execution_count": 22,
   "metadata": {
    "tags": []
   },
   "outputs": [
    {
     "output_type": "stream",
     "name": "stdout",
     "text": "('0x18f0', '0x18f3')\n('0xb0', '0xb3')\n('0xe34', '0xe37')\n('0x1bdc', '0x1bdf')\n"
    }
   ],
   "source": [
    "print(addr(0xc7,4))\n",
    "print(addr(0x05,4))\n",
    "print(addr(0x71,5))\n",
    "print(addr(0xde,7))"
   ]
  },
  {
   "cell_type": "code",
   "execution_count": 20,
   "metadata": {},
   "outputs": [
    {
     "output_type": "execute_result",
     "data": {
      "text/plain": "('0x704', '0x707')"
     },
     "metadata": {},
     "execution_count": 20
    }
   ],
   "source": [
    "addr(0x38, 1)"
   ]
  },
  {
   "cell_type": "code",
   "execution_count": 29,
   "metadata": {},
   "outputs": [
    {
     "output_type": "execute_result",
     "data": {
      "text/plain": "'0b111111111101'"
     },
     "metadata": {},
     "execution_count": 29
    }
   ],
   "source": [
    "bin(0xffd)"
   ]
  },
  {
   "cell_type": "code",
   "execution_count": 30,
   "metadata": {},
   "outputs": [
    {
     "output_type": "execute_result",
     "data": {
      "text/plain": "255"
     },
     "metadata": {},
     "execution_count": 30
    }
   ],
   "source": [
    "int('0b11111111', 2)"
   ]
  },
  {
   "cell_type": "code",
   "execution_count": 25,
   "metadata": {},
   "outputs": [
    {
     "output_type": "execute_result",
     "data": {
      "text/plain": "'0x83'"
     },
     "metadata": {},
     "execution_count": 25
    }
   ],
   "source": [
    "hex(131)"
   ]
  },
  {
   "cell_type": "code",
   "execution_count": 31,
   "metadata": {},
   "outputs": [
    {
     "output_type": "error",
     "ename": "TypeError",
     "evalue": "addr() missing 1 required positional argument: 's'",
     "traceback": [
      "\u001b[0;31m---------------------------------------------------------------------------\u001b[0m",
      "\u001b[0;31mTypeError\u001b[0m                                 Traceback (most recent call last)",
      "\u001b[0;32m<ipython-input-31-bcc43259b39e>\u001b[0m in \u001b[0;36m<module>\u001b[0;34m\u001b[0m\n\u001b[0;32m----> 1\u001b[0;31m \u001b[0maddr\u001b[0m\u001b[0;34m(\u001b[0m\u001b[0;36m0x71a\u001b[0m\u001b[0;34m)\u001b[0m\u001b[0;34m\u001b[0m\u001b[0;34m\u001b[0m\u001b[0m\n\u001b[0m",
      "\u001b[0;31mTypeError\u001b[0m: addr() missing 1 required positional argument: 's'"
     ]
    }
   ],
   "source": [
    "addr(0x71a)"
   ]
  },
  {
   "cell_type": "code",
   "execution_count": 41,
   "metadata": {},
   "outputs": [
    {
     "output_type": "execute_result",
     "data": {
      "text/plain": "'10110110010'"
     },
     "metadata": {},
     "execution_count": 41
    }
   ],
   "source": [
    "real_bin(0xb6, 8) + real_bin(0x2, 3)"
   ]
  },
  {
   "cell_type": "code",
   "execution_count": 39,
   "metadata": {},
   "outputs": [
    {
     "output_type": "execute_result",
     "data": {
      "text/plain": "'0xb7'"
     },
     "metadata": {},
     "execution_count": 39
    }
   ],
   "source": [
    "hex(int('10110111', 2))"
   ]
  },
  {
   "cell_type": "code",
   "execution_count": null,
   "metadata": {},
   "outputs": [],
   "source": []
  }
 ]
}